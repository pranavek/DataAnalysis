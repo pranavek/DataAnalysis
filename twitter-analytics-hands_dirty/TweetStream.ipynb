{
 "metadata": {
  "name": "TweetStream"
 }, 
 "nbformat": 2, 
 "worksheets": [
  {
   "cells": [
    {
     "cell_type": "code", 
     "collapsed": true, 
     "input": [
      "from tweepy.streaming import StreamListener", 
      "from tweepy import OAuthHandler", 
      "from tweepy import Stream", 
      "", 
      "# https://apps.twitter.com", 
      "access_token = \"foo\"", 
      "access_token_secret = \"foo\"", 
      "consumer_key = \"foo\"", 
      "consumer_secret = \"foo\""
     ], 
     "language": "python", 
     "outputs": [], 
     "prompt_number": 22
    }, 
    {
     "cell_type": "code", 
     "collapsed": true, 
     "input": [
      "#This is a basic listener that just prints received tweets to stdout.", 
      "class StdOutListener(StreamListener):", 
      "", 
      "    def on_data(self, data):", 
      "        print data", 
      "        return True", 
      "", 
      "    def on_error(self, status):", 
      "        print status"
     ], 
     "language": "python", 
     "outputs": [], 
     "prompt_number": 23
    }, 
    {
     "cell_type": "code", 
     "collapsed": true, 
     "input": [
      "if __name__ == '__main__':", 
      "", 
      "    #This handles Twitter authetification and the connection to Twitter Streaming API", 
      "    l = StdOutListener()", 
      "    auth = OAuthHandler(consumer_key, consumer_secret)", 
      "    auth.set_access_token(access_token, access_token_secret)", 
      "    stream = Stream(auth, l)", 
      "", 
      "    #This line filter Twitter Streams to capture data by the keywords: 'python', 'javascript', 'ruby'", 
      "    stream.filter(track=['python', 'javascript', 'ruby'])"
     ], 
     "language": "python", 
     "outputs": [], 
     "prompt_number": "*"
    }
   ]
  }
 ]
}