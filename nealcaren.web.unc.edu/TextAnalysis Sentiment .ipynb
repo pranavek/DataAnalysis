{
 "metadata": {
  "name": "TextAnalysis Sentiment "
 }, 
 "nbformat": 2, 
 "worksheets": [
  {
   "cells": [
    {
     "cell_type": "code", 
     "collapsed": true, 
     "input": [
      "from __future__ import division", 
      "import urllib", 
      "import csv", 
      "from string import punctuation", 
      "import os.path", 
      "import sys", 
      "", 
      "files=['negative.txt','positive.txt','obama_tweets.txt']", 
      "path='http://www.unc.edu/~ncaren/haphazard/'", 
      "for file_name in files:", 
      "    if os.path.isfile(file_name) != True:      #if file doesn't exist", 
      "        urllib.urlretrieve(path+file_name,file_name)"
     ], 
     "language": "python", 
     "outputs": [], 
     "prompt_number": 12
    }, 
    {
     "cell_type": "code", 
     "collapsed": true, 
     "input": [
      "try:", 
      "    tweets = open(\"obama_tweets.txt\").read()", 
      "    tweets_list = tweets.split('\\n')", 
      "    ", 
      "    pos_sent = open(\"positive.txt\").read()", 
      "    positive_words=pos_sent.split('\\n')", 
      "    positive_counts=[]", 
      "    ", 
      "    neg_sent = open('negative.txt').read()", 
      "    negative_words=neg_sent.split('\\n')", 
      "    negative_counts=[]", 
      "except IOException as e:", 
      "    print('File(s) not found')", 
      "    sys.exit(1)"
     ], 
     "language": "python", 
     "outputs": [], 
     "prompt_number": 13
    }, 
    {
     "cell_type": "code", 
     "collapsed": true, 
     "input": [
      "for tweet in tweets_list:", 
      "    positive_counter=0", 
      "    negative_counter=0", 
      "    ", 
      "    tweet_processed=tweet.lower()", 
      "    ", 
      "    ", 
      "    for p in list(punctuation):", 
      "        tweet_processed=tweet_processed.replace(p,'')", 
      "", 
      "    words=tweet_processed.split(' ')", 
      "    word_count=len(words)", 
      "    for word in words:", 
      "        if word in positive_words:", 
      "            positive_counter=positive_counter+1", 
      "        elif word in negative_words:", 
      "            negative_counter=negative_counter+1", 
      "        ", 
      "    positive_counts.append(positive_counter/word_count)", 
      "    negative_counts.append(negative_counter/word_count)", 
      "", 
      "output=zip(tweets_list,positive_counts,negative_counts)", 
      "", 
      "writer = csv.writer(open('tweet_sentiment.csv', 'wb'))", 
      "writer.writerows(output)"
     ], 
     "language": "python", 
     "outputs": [], 
     "prompt_number": 14
    }
   ]
  }
 ]
}