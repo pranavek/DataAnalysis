{
 "metadata": {
  "name": "TextAnalysis Sentiment "
 }, 
 "nbformat": 2, 
 "worksheets": [
  {
   "cells": [
    {
     "cell_type": "code", 
     "collapsed": false, 
     "input": [
      "import urllib", 
      "import os.path", 
      "", 
      "files=['negative.txt','positive.txt','obama_tweets.txt']", 
      "path='http://www.unc.edu/~ncaren/haphazard/'", 
      "for file_name in files:", 
      "    if os.path.isfile(file_name) != True:      #if file doesn't exist", 
      "        urllib.urlretrieve(path+file_name,file_name)"
     ], 
     "language": "python", 
     "outputs": [], 
     "prompt_number": 6
    }, 
    {
     "cell_type": "code", 
     "collapsed": true, 
     "input": [], 
     "language": "python", 
     "outputs": []
    }
   ]
  }
 ]
}