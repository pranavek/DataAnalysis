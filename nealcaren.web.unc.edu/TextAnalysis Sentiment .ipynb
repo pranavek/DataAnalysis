{
 "cells": [
  {
   "cell_type": "code",
   "execution_count": 12,
   "metadata": {
    "collapsed": true
   },
   "outputs": [],
   "source": [
    "from __future__ import division\n",
    "import urllib\n",
    "import csv\n",
    "from string import punctuation\n",
    "import os.path\n",
    "import sys\n",
    "\n",
    "files=['negative.txt','positive.txt','obama_tweets.txt']\n",
    "path='http://www.unc.edu/~ncaren/haphazard/'\n",
    "for file_name in files:\n",
    "    if os.path.isfile(file_name) != True:      #if file doesn't exist\n",
    "        urllib.urlretrieve(path+file_name,file_name)"
   ]
  },
  {
   "cell_type": "code",
   "execution_count": 13,
   "metadata": {
    "collapsed": true
   },
   "outputs": [],
   "source": [
    "try:\n",
    "    tweets = open(\"obama_tweets.txt\").read()\n",
    "    tweets_list = tweets.split('\\n')\n",
    "    \n",
    "    pos_sent = open(\"positive.txt\").read()\n",
    "    positive_words=pos_sent.split('\\n')\n",
    "    positive_counts=[]\n",
    "    \n",
    "    neg_sent = open('negative.txt').read()\n",
    "    negative_words=neg_sent.split('\\n')\n",
    "    negative_counts=[]\n",
    "except IOException as e:\n",
    "    print('File(s) not found')\n",
    "    sys.exit(1)"
   ]
  },
  {
   "cell_type": "code",
   "execution_count": 14,
   "metadata": {
    "collapsed": true
   },
   "outputs": [],
   "source": [
    "for tweet in tweets_list:\n",
    "    positive_counter=0\n",
    "    negative_counter=0\n",
    "    \n",
    "    tweet_processed=tweet.lower()\n",
    "    \n",
    "    \n",
    "    for p in list(punctuation):\n",
    "        tweet_processed=tweet_processed.replace(p,'')\n",
    "\n",
    "    words=tweet_processed.split(' ')\n",
    "    word_count=len(words)\n",
    "    for word in words:\n",
    "        if word in positive_words:\n",
    "            positive_counter=positive_counter+1\n",
    "        elif word in negative_words:\n",
    "            negative_counter=negative_counter+1\n",
    "        \n",
    "    positive_counts.append(positive_counter/word_count)\n",
    "    negative_counts.append(negative_counter/word_count)\n",
    "\n",
    "output=zip(tweets_list,positive_counts,negative_counts)\n",
    "\n",
    "writer = csv.writer(open('tweet_sentiment.csv', 'wb'))\n",
    "writer.writerows(output)"
   ]
  }
 ],
 "metadata": {
  "kernelspec": {
   "display_name": "Python 3",
   "language": "python",
   "name": "python3"
  },
  "language_info": {
   "codemirror_mode": {
    "name": "ipython",
    "version": 3
   },
   "file_extension": ".py",
   "mimetype": "text/x-python",
   "name": "python",
   "nbconvert_exporter": "python",
   "pygments_lexer": "ipython3",
   "version": "3.4.1"
  }
 },
 "nbformat": 4,
 "nbformat_minor": 0
}
