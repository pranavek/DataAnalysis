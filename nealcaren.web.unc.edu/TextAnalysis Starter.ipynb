{
 "cells": [
  {
   "cell_type": "code",
   "execution_count": 17,
   "metadata": {
    "collapsed": true
   },
   "outputs": [],
   "source": [
    "tweet='We have some delightful new food in the cafeteria. Awesome!!!'\n",
    "postive_words=['awesome','good', 'nice', 'super', 'fun', 'delightful']\n",
    "negative_words=['awful','lame','horrible','bad']\n",
    "pos = 0.0\n",
    "neg = 0.0"
   ]
  },
  {
   "cell_type": "code",
   "execution_count": 18,
   "metadata": {
    "collapsed": true
   },
   "outputs": [],
   "source": [
    "words= tweet.split(' ')\n",
    "words_size = len(words)"
   ]
  },
  {
   "cell_type": "code",
   "execution_count": 19,
   "metadata": {
    "collapsed": false
   },
   "outputs": [],
   "source": [
    "for word in words:\n",
    "    if word in postive_words:\n",
    "        pos = pos + 1\n",
    "    elif word in negative_words:\n",
    "        neg = neg + 1"
   ]
  },
  {
   "cell_type": "code",
   "execution_count": 20,
   "metadata": {
    "collapsed": true
   },
   "outputs": [],
   "source": [
    "pRatio = pos / words_size\n",
    "nRatio = neg / words_size"
   ]
  },
  {
   "cell_type": "code",
   "execution_count": 21,
   "metadata": {
    "collapsed": false
   },
   "outputs": [
    {
     "name": "stdout",
     "output_type": "stream",
     "text": [
      "Positive Text\n"
     ]
    }
   ],
   "source": [
    "if pRatio > nRatio:\n",
    "    print('Positive Text')\n",
    "elif pRatio < nRatio:\n",
    "    print('Negative Text')\n",
    "else:\n",
    "    print('Neutral')"
   ]
  }
 ],
 "metadata": {
  "kernelspec": {
   "display_name": "Python 3",
   "language": "python",
   "name": "python3"
  },
  "language_info": {
   "codemirror_mode": {
    "name": "ipython",
    "version": 3
   },
   "file_extension": ".py",
   "mimetype": "text/x-python",
   "name": "python",
   "nbconvert_exporter": "python",
   "pygments_lexer": "ipython3",
   "version": "3.4.1"
  }
 },
 "nbformat": 4,
 "nbformat_minor": 0
}
