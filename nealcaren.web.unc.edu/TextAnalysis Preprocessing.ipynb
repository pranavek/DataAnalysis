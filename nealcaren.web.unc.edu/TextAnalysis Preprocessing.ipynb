{
 "cells": [
  {
   "cell_type": "code",
   "execution_count": 1,
   "metadata": {
    "collapsed": true
   },
   "outputs": [
    {
     "data": {
      "text/plain": [
       "' Lower case - Stripping punctation - stemming words - Remove stop words\\n    Search \"feature selection\" ex: Cool! vs Cool? \\n'"
      ]
     },
     "execution_count": 1,
     "metadata": {},
     "output_type": "execute_result"
    }
   ],
   "source": [
    "''' Lower case - Stripping punctation - stemming words - Remove stop words\n",
    "    Search \"feature selection\" ex: Cool! vs Cool? \n",
    "    eatures can be more than the absence or presence of specific words.\n",
    "    Word count, presence of parts of words, sentence complexity, use of the passive voice,\n",
    "    presence of emoticons, or any other text attribute that can be expressed as a number can be included as a feature.\n",
    "'''"
   ]
  },
  {
   "cell_type": "code",
   "execution_count": 39,
   "metadata": {
    "collapsed": true
   },
   "outputs": [],
   "source": [
    "from __future__ import division\n",
    "from string import punctuation\n",
    "\n",
    "tweet='We have some delightful new food in the cafeteria. Awesome!!!'\n",
    "postive_words=['awesome','good', 'nice', 'super', 'fun', 'delightful']\n",
    "negative_words=['awful','lame','horrible','bad']\n",
    "pos = 0\n",
    "neg = 0"
   ]
  },
  {
   "cell_type": "code",
   "execution_count": 40,
   "metadata": {
    "collapsed": false
   },
   "outputs": [],
   "source": [
    "# Lower case and stripping punctuation\n",
    "tweet_pre = tweet.lower()\n",
    "for p in list(punctuation):\n",
    "    tweet_pre = tweet_pre.replace(p,'')   "
   ]
  },
  {
   "cell_type": "code",
   "execution_count": 41,
   "metadata": {
    "collapsed": false
   },
   "outputs": [
    {
     "name": "stdout",
     "output_type": "stream",
     "text": [
      "Positive Text\n"
     ]
    }
   ],
   "source": [
    "words = tweet_pre.split(' ')\n",
    "for word in words:\n",
    "    if word in postive_words:\n",
    "        pos = pos + 1\n",
    "    elif word in negative_words:\n",
    "        neg = neg + 1\n",
    "\n",
    "words_size = len(tweet_pre)\n",
    "pRatio = pos / words_size\n",
    "nRatio = neg / words_size\n",
    "\n",
    "if pRatio > nRatio:\n",
    "    print('Positive Text')\n",
    "elif pRatio < nRatio:\n",
    "    print('Negative Text')\n",
    "else:\n",
    "    print('Neutral')"
   ]
  },
  {
   "cell_type": "code",
   "execution_count": null,
   "metadata": {
    "collapsed": true
   },
   "outputs": [],
   "source": []
  }
 ],
 "metadata": {
  "kernelspec": {
   "display_name": "Python 3",
   "language": "python",
   "name": "python3"
  },
  "language_info": {
   "codemirror_mode": {
    "name": "ipython",
    "version": 3
   },
   "file_extension": ".py",
   "mimetype": "text/x-python",
   "name": "python",
   "nbconvert_exporter": "python",
   "pygments_lexer": "ipython3",
   "version": "3.4.1"
  }
 },
 "nbformat": 4,
 "nbformat_minor": 0
}
